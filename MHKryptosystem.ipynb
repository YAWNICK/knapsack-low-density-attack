{
 "cells": [
  {
   "cell_type": "markdown",
   "id": "7d177abb",
   "metadata": {},
   "source": [
    "# Breaking the Merkle-Hellman knapsack cryptosystem with the low density attack"
   ]
  },
  {
   "cell_type": "code",
   "execution_count": null,
   "id": "51c314d9",
   "metadata": {},
   "outputs": [],
   "source": [
    "from tqdm import tqdm\n",
    "import time"
   ]
  },
  {
   "cell_type": "markdown",
   "id": "6fc9e45a",
   "metadata": {},
   "source": [
    "## The Merkle-Hellman Cryptosystem"
   ]
  },
  {
   "cell_type": "code",
   "execution_count": null,
   "id": "77accc18",
   "metadata": {},
   "outputs": [],
   "source": [
    "def generate_keypair(n):\n",
    "    skseq = []\n",
    "    for i in range(n):\n",
    "        a = randint(((2**i)-1)*(2**n), (2**i)*(2**n))\n",
    "        skseq.append(a)\n",
    "    m = randint(2**(2*n+1)+1, 2**(2*n+2)-1)\n",
    "    w_prime = randint(2, m-2)\n",
    "    w = w_prime / gcd(w_prime, m)\n",
    "    pkseq = [Mod(w*a, m).lift() for a in skseq]\n",
    "    return ((skseq, w, m), pkseq)"
   ]
  },
  {
   "cell_type": "code",
   "execution_count": null,
   "id": "51246bc9",
   "metadata": {},
   "outputs": [],
   "source": [
    "def generate_msg(n):\n",
    "    return [[True, False][randint(0,1)] for _ in range(n)]"
   ]
  },
  {
   "cell_type": "code",
   "execution_count": null,
   "id": "dfd00fa1",
   "metadata": {},
   "outputs": [],
   "source": [
    "def solve_easy_knapsack(skseq, s):\n",
    "    msg = []\n",
    "    for x in skseq[::-1]:\n",
    "        if x <= s:\n",
    "            s -= x\n",
    "            msg = [True] + msg\n",
    "        else:\n",
    "            msg = [False] + msg\n",
    "    return msg"
   ]
  },
  {
   "cell_type": "code",
   "execution_count": null,
   "id": "60155cb6",
   "metadata": {},
   "outputs": [],
   "source": [
    "def encode(msg, pk):\n",
    "    return sum(map(lambda y: y[1], filter(lambda x: x[0], zip(msg, pk))))"
   ]
  },
  {
   "cell_type": "code",
   "execution_count": null,
   "id": "3025493f",
   "metadata": {},
   "outputs": [],
   "source": [
    "def decode(c, sk):\n",
    "    skseq, w, m = sk\n",
    "    w_prime = inverse_mod(w, m)\n",
    "    s = Mod(w_prime * c, m).lift()\n",
    "    print(s)\n",
    "    msg = solve_easy_knapsack(skseq, s)\n",
    "    return msg"
   ]
  },
  {
   "cell_type": "code",
   "execution_count": null,
   "id": "1baa58eb",
   "metadata": {},
   "outputs": [],
   "source": [
    "def msg_to_int(msg):\n",
    "    return eval('0b'+''.join(map(str, map(int, msg))))"
   ]
  },
  {
   "cell_type": "markdown",
   "id": "19ecef5e",
   "metadata": {},
   "source": [
    "## Break tests"
   ]
  },
  {
   "cell_type": "code",
   "execution_count": null,
   "id": "8966b0a9",
   "metadata": {},
   "outputs": [],
   "source": [
    "def break_test(n):\n",
    "    sk, pk = generate_keypair(n)\n",
    "    msg = generate_msg(n)\n",
    "    msg_int = msg_to_int(msg)\n",
    "    c = encode(msg, pk)\n",
    "    TL = identity_matrix(n)\n",
    "    TR = column_matrix([pk])\n",
    "    BL = zero_matrix(1, n)\n",
    "    BR = matrix([[-c]])\n",
    "    M = block_matrix([[TL, TR], [BL, BR]])\n",
    "    SV = M.LLL()\n",
    "    msg_guess = None\n",
    "    for v in SV:\n",
    "        if all([x == 1 or x == 0 for x in v]):\n",
    "            msg_guess = int(''.join(list(map(str, map(int, v)))[:-1]), 2)\n",
    "    return msg_guess == msg_int"
   ]
  },
  {
   "cell_type": "code",
   "execution_count": null,
   "id": "36e4e1bc",
   "metadata": {},
   "outputs": [],
   "source": [
    "def break_test2(n):\n",
    "    sk, pk = generate_keypair(n)\n",
    "    msg = generate_msg(n)\n",
    "    msg_int = msg_to_int(msg)\n",
    "    c = encode(msg, pk)\n",
    "    lmbd = ceil(0.5*sqrt(n))\n",
    "    TL = identity_matrix(n)\n",
    "    TR = column_matrix([[lmbd*x for x in pk]])\n",
    "    BL = ones_matrix(1, n) * (1/2)\n",
    "    BR = matrix([[lmbd*c]])\n",
    "    M = block_matrix([[TL, TR], [BL, BR]])\n",
    "    SV = M.LLL()\n",
    "    msg_guess = None\n",
    "    for v in SV:\n",
    "        v = v[:-1]\n",
    "        v = [1 - (item + (1/2)) for item in v]\n",
    "        if all([x == 1 or x == 0 for x in v]):\n",
    "            msg_guess = int(''.join(list(map(str, map(int, v)))), 2)\n",
    "    return msg_guess == msg_int"
   ]
  },
  {
   "cell_type": "code",
   "execution_count": null,
   "id": "bf017914",
   "metadata": {},
   "outputs": [],
   "source": [
    "break_test2(15)"
   ]
  },
  {
   "cell_type": "code",
   "execution_count": null,
   "id": "7cf7ff3a",
   "metadata": {},
   "outputs": [],
   "source": [
    "R = dict()\n",
    "for n in tqdm(range(10, 50)):  # 197, 203\n",
    "    R[n] = 0\n",
    "    ts = 0\n",
    "    for i in range(100):\n",
    "        res = break_test2(n)\n",
    "        if res:\n",
    "            R[n] += 1"
   ]
  },
  {
   "cell_type": "code",
   "execution_count": null,
   "id": "f0adbab8",
   "metadata": {},
   "outputs": [],
   "source": [
    "for n in range(10, 50):\n",
    "    print(n, R[n])"
   ]
  },
  {
   "cell_type": "markdown",
   "id": "b9f0cf62",
   "metadata": {},
   "source": [
    "## A single break test"
   ]
  },
  {
   "cell_type": "code",
   "execution_count": null,
   "id": "d66d9094",
   "metadata": {},
   "outputs": [],
   "source": [
    "sk, pk = generate_keypair(n)\n",
    "pk"
   ]
  },
  {
   "cell_type": "code",
   "execution_count": null,
   "id": "ea2f221f",
   "metadata": {},
   "outputs": [],
   "source": [
    "sk"
   ]
  },
  {
   "cell_type": "code",
   "execution_count": null,
   "id": "2bb44070",
   "metadata": {
    "scrolled": false
   },
   "outputs": [],
   "source": [
    "msg = generate_msg(n)\n",
    "msg_to_int(msg)"
   ]
  },
  {
   "cell_type": "code",
   "execution_count": null,
   "id": "c7b4217e",
   "metadata": {},
   "outputs": [],
   "source": [
    "c = encode(msg, pk)\n",
    "c"
   ]
  },
  {
   "cell_type": "code",
   "execution_count": null,
   "id": "5e3ade8a",
   "metadata": {},
   "outputs": [],
   "source": [
    "decmsg = decode(c, sk)\n",
    "msg_to_int(decmsg)"
   ]
  },
  {
   "cell_type": "code",
   "execution_count": null,
   "id": "c48e6c2d",
   "metadata": {},
   "outputs": [],
   "source": [
    "TL = identity_matrix(n)\n",
    "TL"
   ]
  },
  {
   "cell_type": "code",
   "execution_count": null,
   "id": "1f2ede6a",
   "metadata": {},
   "outputs": [],
   "source": [
    "TR = column_matrix([pk])"
   ]
  },
  {
   "cell_type": "code",
   "execution_count": null,
   "id": "58e37152",
   "metadata": {},
   "outputs": [],
   "source": [
    "BL = zero_matrix(1, n)\n"
   ]
  },
  {
   "cell_type": "code",
   "execution_count": null,
   "id": "b0f2e4be",
   "metadata": {},
   "outputs": [],
   "source": [
    "BR = matrix([[-c]])\n",
    "BR"
   ]
  },
  {
   "cell_type": "code",
   "execution_count": null,
   "id": "600ecb41",
   "metadata": {},
   "outputs": [],
   "source": [
    "M = block_matrix([[TL, TR], [BL, BR]])\n",
    "M"
   ]
  },
  {
   "cell_type": "code",
   "execution_count": null,
   "metadata": {},
   "outputs": [],
   "source": [
    "SV = M.LLL()\n",
    "print(SV)\n",
    "for v in SV:\n",
    "    if all([x == 1 or x == 0 for x in v]):\n",
    "        print(v)\n",
    "        msg_orig = int(''.join(list(map(str, map(int, v)))[:-1]), 2)\n",
    "        print(msg_orig)"
   ]
  }
 ],
 "metadata": {
  "kernelspec": {
   "display_name": "SageMath 9.8",
   "language": "sage",
   "name": "sagemath"
  },
  "language_info": {
   "codemirror_mode": {
    "name": "ipython",
    "version": 3
   },
   "file_extension": ".py",
   "mimetype": "text/x-python",
   "name": "python",
   "nbconvert_exporter": "python",
   "pygments_lexer": "ipython3",
   "version": "3.11.4"
  }
 },
 "nbformat": 4,
 "nbformat_minor": 5
}
